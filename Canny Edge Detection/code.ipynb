{
 "cells": [
  {
   "cell_type": "code",
   "execution_count": 3,
   "id": "87f6be84",
   "metadata": {},
   "outputs": [],
   "source": [
    "#Canny Edge Detection\n",
    "import cv2\n",
    "\n",
    "# Read the image\n",
    "image = cv2.imread('D:\\SRM_Classes\\DIP\\degraded_image3.jpg', cv2.IMREAD_GRAYSCALE)\n",
    "\n",
    "# Apply Canny edge detection\n",
    "edges = cv2.Canny(image, threshold1=100, threshold2=200)  # You can adjust the threshold values\n",
    "\n",
    "# Display the original and edge-detected images\n",
    "cv2.imshow('Original Image', image)\n",
    "cv2.imshow('Canny Edges', edges)\n",
    "cv2.waitKey(0)\n",
    "cv2.destroyAllWindows()\n"
   ]
  }
 ],
 "metadata": {
  "kernelspec": {
   "display_name": "Python 3 (ipykernel)",
   "language": "python",
   "name": "python3"
  },
  "language_info": {
   "codemirror_mode": {
    "name": "ipython",
    "version": 3
   },
   "file_extension": ".py",
   "mimetype": "text/x-python",
   "name": "python",
   "nbconvert_exporter": "python",
   "pygments_lexer": "ipython3",
   "version": "3.10.2"
  }
 },
 "nbformat": 4,
 "nbformat_minor": 5
}
