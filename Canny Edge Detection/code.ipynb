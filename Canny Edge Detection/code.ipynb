{
 "cells": [
  {
   "cell_type": "code",
   "execution_count": 2,
   "id": "bb310185",
   "metadata": {},
   "outputs": [],
   "source": [
    "#WIENER FILTER\n",
    "import cv2\n",
    "import numpy as np\n",
    "\n",
    "def wiener_filter(channel, kernel_size):\n",
    "    # Estimate the power spectral density (PSD) of the noise for the channel\n",
    "    noise_psd = np.abs(np.fft.fft2(channel)) ** 2 / (channel.shape[0] * channel.shape[1])\n",
    "\n",
    "    # Estimate the PSD of the original signal for the channel\n",
    "    original_psd = np.abs(np.fft.fft2(channel)) ** 2 / (channel.shape[0] * channel.shape[1])\n",
    "\n",
    "    # Calculate the Wiener filter transfer function for the channel\n",
    "    wiener_filter = original_psd / (original_psd + noise_psd)\n",
    "\n",
    "    # Apply the Wiener filter to the channel in the frequency domain\n",
    "    restored_channel = np.fft.ifft2(np.fft.fft2(channel) * wiener_filter).real\n",
    "\n",
    "    return np.uint8(restored_channel)\n",
    "\n",
    "# Read the degraded color image\n",
    "degraded_image = cv2.imread(r'D:\\SRM_Classes\\DIP\\degraded_image3.jpg')\n",
    "\n",
    "# Define the Wiener filter kernel size\n",
    "kernel_size = 5\n",
    "\n",
    "# Create an output image to store the filtered result\n",
    "restored_image = np.zeros_like(degraded_image, dtype=np.uint8)\n",
    "\n",
    "# Iterate through the color channels (B, G, R)\n",
    "for channel in range(3):\n",
    "    # Extract the color channel\n",
    "    degraded_channel = degraded_image[:, :, channel]\n",
    "\n",
    "    # Apply the Wiener filter with the specified kernel size\n",
    "    restored_channel = wiener_filter(degraded_channel, kernel_size)\n",
    "\n",
    "    # Store the filtered channel in the output image\n",
    "    restored_image[:, :, channel] = restored_channel\n",
    "\n",
    "# Display the degraded and restored color images\n",
    "cv2.imshow('Degraded Color Image', degraded_image)\n",
    "cv2.imshow(f'Restored Color Image (Wiener Filter, Kernel Size {kernel_size})', restored_image)\n",
    "cv2.waitKey(0)\n",
    "cv2.destroyAllWindows()\n"
   ]
  },
  {
   "cell_type": "code",
   "execution_count": null,
   "id": "74d489c2",
   "metadata": {},
   "outputs": [],
   "source": []
  }
 ],
 "metadata": {
  "kernelspec": {
   "display_name": "Python 3 (ipykernel)",
   "language": "python",
   "name": "python3"
  },
  "language_info": {
   "codemirror_mode": {
    "name": "ipython",
    "version": 3
   },
   "file_extension": ".py",
   "mimetype": "text/x-python",
   "name": "python",
   "nbconvert_exporter": "python",
   "pygments_lexer": "ipython3",
   "version": "3.10.2"
  }
 },
 "nbformat": 4,
 "nbformat_minor": 5
}
